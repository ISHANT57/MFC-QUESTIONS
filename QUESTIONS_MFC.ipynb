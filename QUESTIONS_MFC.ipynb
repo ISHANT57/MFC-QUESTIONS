{
 "cells": [
  {
   "cell_type": "markdown",
   "metadata": {},
   "source": [
    "# QUESTIONS  "
   ]
  },
  {
   "cell_type": "markdown",
   "metadata": {},
   "source": [
    "1. Manually write the 3 ways of representing graphs in python."
   ]
  },
  {
   "cell_type": "code",
   "execution_count": 45,
   "metadata": {},
   "outputs": [],
   "source": [
    "\n",
    "# Adjacency List\n",
    "adjacency_list = {\n",
    "    \"S1\": [\"S2\", \"S3\", \"S5\"],\n",
    "    \"S2\": [\"S1\", \"S4\"],\n",
    "    \"S3\": [\"S1\", \"S5\"],\n",
    "    \"S4\": [\"S2\"],\n",
    "    \"S5\": [\"S1\", \"S3\"]\n",
    "}\n",
    "\n",
    "# Adjacency Matrix\n",
    "adjacency_matrix = [\n",
    "    [0, 1, 1, 0, 1],  # S1\n",
    "    [1, 0, 0, 1, 0],  # S2\n",
    "    [1, 0, 0, 0, 1],  # S3\n",
    "    [0, 1, 0, 0, 0],  # S4\n",
    "    [1, 0, 1, 0, 0]   # S5\n",
    "]\n",
    "\n",
    "# Edge List\n",
    "edge_list = [\n",
    "    (\"S1\", \"S2\"),\n",
    "    (\"S1\", \"S3\"),\n",
    "    (\"S1\", \"S5\"),\n",
    "    (\"S2\", \"S4\"),\n",
    "    (\"S3\", \"S5\")\n",
    "]\n"
   ]
  },
  {
   "cell_type": "markdown",
   "metadata": {},
   "source": [
    "2. Write a code to find the degree of each vertex"
   ]
  },
  {
   "cell_type": "code",
   "execution_count": 46,
   "metadata": {},
   "outputs": [
    {
     "name": "stdout",
     "output_type": "stream",
     "text": [
      "Degrees from Adjacency List: {'S1': 3, 'S2': 2, 'S3': 2, 'S4': 1, 'S5': 2}\n"
     ]
    }
   ],
   "source": [
    "# 2. Find the degree of each vertex in the adjacency list\n",
    "\n",
    "def find_degrees(adjacency_list):\n",
    "    degrees_dict = {}\n",
    "    for vertex, neighbors in adjacency_list.items():\n",
    "        degrees_dict[vertex] = len(neighbors)\n",
    "    return degrees_dict\n",
    "\n",
    "# Example usage\n",
    "degrees = find_degrees(adjacency_list)\n",
    "print(\"Degrees from Adjacency List:\", degrees)\n"
   ]
  },
  {
   "cell_type": "markdown",
   "metadata": {},
   "source": [
    "3. Write a code to inter-convert these 3 graph representations."
   ]
  },
  {
   "cell_type": "code",
   "execution_count": 47,
   "metadata": {},
   "outputs": [
    {
     "data": {
      "text/plain": [
       "[('S1', 'S2'),\n",
       " ('S1', 'S3'),\n",
       " ('S1', 'S5'),\n",
       " ('S2', 'S1'),\n",
       " ('S2', 'S4'),\n",
       " ('S3', 'S1'),\n",
       " ('S3', 'S5'),\n",
       " ('S4', 'S2'),\n",
       " ('S5', 'S1'),\n",
       " ('S5', 'S3')]"
      ]
     },
     "execution_count": 47,
     "metadata": {},
     "output_type": "execute_result"
    }
   ],
   "source": [
    "# 3a. Adjacency List to Edge List (undirected, includes both (u,v) and (v,u))\n",
    "\n",
    "def adjacency_list_to_edge_list(adjacency_list):\n",
    "    edge_list = []\n",
    "    for node in adjacency_list.keys(): # For each node in the adjacency list\n",
    "        for neighbor in adjacency_list[node]:\n",
    "            edge_list.append((node, neighbor)) # For each node in the adjacency list\n",
    "    return edge_list\n",
    "\n",
    "adjacency_list_to_edge_list(adjacency_list)\n"
   ]
  },
  {
   "cell_type": "code",
   "execution_count": 48,
   "metadata": {},
   "outputs": [
    {
     "data": {
      "text/plain": [
       "{'S1': ['S2', 'S3', 'S5'],\n",
       " 'S2': ['S1', 'S4'],\n",
       " 'S3': ['S1', 'S5'],\n",
       " 'S5': ['S1', 'S3'],\n",
       " 'S4': ['S2']}"
      ]
     },
     "execution_count": 48,
     "metadata": {},
     "output_type": "execute_result"
    }
   ],
   "source": [
    "# 3b. Edge List to Adjacency List\n",
    "\n",
    "def edge_list_to_adjacency_list(edge_list):\n",
    "    adjacency_list = {}\n",
    "    for node1, node2 in edge_list:\n",
    "        if node1 not in adjacency_list:\n",
    "            # If node1 is not already in AL, add it with an empty list\n",
    "            adjacency_list[node1] = []\n",
    "        adjacency_list[node1].append(node2) # Add node2 as a neighbor of node1\n",
    "        if node2 not in adjacency_list:\n",
    "            adjacency_list[node2] = []\n",
    "        adjacency_list[node2].append(node1) # Add node1 as a neighbor of node2 (since the graph is undirected)\n",
    "    return adjacency_list\n",
    "\n",
    "edge_list_to_adjacency_list(edge_list)\n"
   ]
  },
  {
   "cell_type": "code",
   "execution_count": 49,
   "metadata": {},
   "outputs": [
    {
     "data": {
      "text/plain": [
       "[[0, 1, 1, 0, 1],\n",
       " [1, 0, 0, 1, 0],\n",
       " [1, 0, 0, 0, 1],\n",
       " [0, 1, 0, 0, 0],\n",
       " [1, 0, 1, 0, 0]]"
      ]
     },
     "execution_count": 49,
     "metadata": {},
     "output_type": "execute_result"
    }
   ],
   "source": [
    "# 3c. Adjacency List to Adjacency Matrix\n",
    "\n",
    "def adjacency_list_to_adjacency_matrix(adjacency_list):\n",
    "    adjacency_matrix = []\n",
    "    node_labels = [\"S1\", \"S2\", \"S3\", \"S4\", \"S5\"]\n",
    "    for i in range(len(node_labels)):\n",
    "        for node in adjacency_list.keys():\n",
    "            if node_labels[i] == node:\n",
    "                row = []\n",
    "                for j in range(len(node_labels)):\n",
    "                    if node_labels[j] in adjacency_list[node]:\n",
    "                        row.append(1)\n",
    "                    else:\n",
    "                        row.append(0)\n",
    "                adjacency_matrix.append(row)\n",
    "    return adjacency_matrix\n",
    "\n",
    "adjacency_list_to_adjacency_matrix(adjacency_list)\n"
   ]
  },
  {
   "cell_type": "code",
   "execution_count": 50,
   "metadata": {},
   "outputs": [
    {
     "data": {
      "text/plain": [
       "[[0, 1, 1, 0, 1],\n",
       " [1, 0, 0, 1, 0],\n",
       " [1, 0, 0, 0, 1],\n",
       " [0, 1, 0, 0, 0],\n",
       " [1, 0, 1, 0, 0]]"
      ]
     },
     "execution_count": 50,
     "metadata": {},
     "output_type": "execute_result"
    }
   ],
   "source": [
    "# 3d. Edge List to Adjacency Matrix\n",
    "\n",
    "def edge_list_to_adjacency_matrix(edge_list):\n",
    "    adjacency_matrix = []\n",
    "    node_labels = [\"S1\", \"S2\", \"S3\", \"S4\", \"S5\"]\n",
    "    for i in range(len(node_labels)):\n",
    "        row = []\n",
    "        for j in range(len(node_labels)):\n",
    "            # Check if there is an edge between node_labels[i] and node_labels[j]\n",
    "            if (node_labels[i], node_labels[j]) in edge_list or (node_labels[j], node_labels[i]) in edge_list:\n",
    "                row.append(1)\n",
    "            else:\n",
    "                row.append(0)\n",
    "        adjacency_matrix.append(row)\n",
    "    return adjacency_matrix\n",
    "\n",
    "edge_list_to_adjacency_matrix(edge_list)\n"
   ]
  },
  {
   "cell_type": "markdown",
   "metadata": {},
   "source": [
    "\n",
    "4. Given a graph and two vertices, check if they are adjacent."
   ]
  },
  {
   "cell_type": "code",
   "execution_count": 51,
   "metadata": {},
   "outputs": [
    {
     "data": {
      "text/plain": [
       "True"
      ]
     },
     "execution_count": 51,
     "metadata": {},
     "output_type": "execute_result"
    }
   ],
   "source": [
    "\n",
    "def check_adjacent(given,u,v):\n",
    "    if u in given[v]: # Check if u is in the neighbor list of v\n",
    "        return True\n",
    "    return False\n",
    "given=adjacency_list\n",
    "\n",
    "check_adjacent(given ,\"S1\",\"S2\")"
   ]
  },
  {
   "cell_type": "markdown",
   "metadata": {},
   "source": [
    "5. Check if a graph is complete."
   ]
  },
  {
   "cell_type": "code",
   "execution_count": 52,
   "metadata": {},
   "outputs": [
    {
     "name": "stdout",
     "output_type": "stream",
     "text": [
      "False\n"
     ]
    }
   ],
   "source": [
    "\n",
    "def check_graph_complete(graph):\n",
    "    if type(graph) == dict:  # First, check if the input is an adjacency list (dict)\n",
    "        for node in graph:\n",
    "            if len(graph[node]) != len(graph) - 1: # For each node, check if its degree is equal to total nodes - 1\n",
    "                return False\n",
    "        return True # If all nodes have degree n-1, the graph is complete\n",
    "    return False\n",
    "\n",
    "print(check_graph_complete(adjacency_list))  # False\n"
   ]
  },
  {
   "cell_type": "markdown",
   "metadata": {},
   "source": [
    "\n",
    "6. Check if a graph is connected."
   ]
  },
  {
   "cell_type": "code",
   "execution_count": 53,
   "metadata": {},
   "outputs": [
    {
     "name": "stdout",
     "output_type": "stream",
     "text": [
      "False\n",
      "True\n"
     ]
    }
   ],
   "source": [
    "#6\n",
    "\n",
    "def is_graph_connected(graph):\n",
    "    nodes = list(graph.keys()) # List to keep track of visited nodes\n",
    "    visited = []\n",
    "    queue = [nodes[0]] # Start BFS from the first node\n",
    "\n",
    "    while queue:\n",
    "        node = queue.pop(0)\n",
    "        if node not in visited:\n",
    "            visited.append(node)\n",
    "             # Add all neighbors to the queue\n",
    "            queue.extend(graph[node])\n",
    "\n",
    "    return len(visited) == len(nodes) # If all nodes are visited, the graph is connected\n",
    "\n",
    "graph1 = {\"A\": [\"B\", \"C\"], \"B\": [\"A\", \"C\"], \"C\": [\"A\", \"B\"], \"D\": []}  \n",
    "graph2 = {\"A\": [\"B\", \"C\"], \"B\": [\"A\", \"C\"], \"C\": [\"A\", \"B\"]}  \n",
    "\n",
    "print(is_graph_connected(graph1))  # False  \n",
    "print(is_graph_connected(graph2))  # True  \n"
   ]
  },
  {
   "cell_type": "markdown",
   "metadata": {},
   "source": [
    "7. Given a graph and a list of vertices, check if it forms a walk, or a trail or a path or none of these."
   ]
  },
  {
   "cell_type": "code",
   "execution_count": 54,
   "metadata": {},
   "outputs": [
    {
     "name": "stdout",
     "output_type": "stream",
     "text": [
      "Trail\n",
      "Walk\n",
      "Path\n",
      "None\n"
     ]
    }
   ],
   "source": [
    "def check_walk_trail_path(graph, sequence):\n",
    "    # Check if all nodes in the sequence exist in the graph\n",
    "    if any(node not in graph for node in sequence):\n",
    "        return \"None\"\n",
    "\n",
    "    edges = set()  # Use a set to store edges (automatically handles uniqueness)\n",
    "    has_repeated_edges = False\n",
    "\n",
    "    for i in range(len(sequence) - 1):\n",
    "        u, v = sequence[i], sequence[i + 1]\n",
    "        if v not in graph[u]:\n",
    "            return \"None\"  # If there's no edge between u and v, return None\n",
    "        edge = (u, v) if u < v else (v, u)  # Ensure edges are ordered to avoid duplication\n",
    "        if edge in edges:\n",
    "            has_repeated_edges = True\n",
    "        edges.add(edge)\n",
    "\n",
    "    if has_repeated_edges:\n",
    "        return \"Walk\"  # Repeated edges indicate a \"Walk\"\n",
    "    \n",
    "    if len(sequence) != len(set(sequence)):\n",
    "        return \"Trail\"  # Repeated nodes (but no repeated edges) indicate a \"Trail\"\n",
    "    \n",
    "    return \"Path\"  # No repeated edges or nodes indicate a \"Path\"\n",
    "\n",
    "# Example graph and sequences\n",
    "graph3 = {\"A\": [\"B\", \"C\"], \"B\": [\"A\", \"C\", \"D\"], \"C\": [\"A\", \"B\"], \"D\": [\"B\"]}\n",
    "\n",
    "# Test cases\n",
    "seq1 = [\"A\", \"B\", \"C\", \"A\"]  # Trail  \n",
    "seq2 = [\"A\", \"B\", \"D\", \"B\", \"C\"]  # Walk  \n",
    "seq3 = [\"A\", \"B\", \"D\"]  # Path  \n",
    "seq4 = [\"A\", \"D\"]  # None  \n",
    "\n",
    "print(check_walk_trail_path(graph3, seq1))  # Trail  \n",
    "print(check_walk_trail_path(graph3, seq2))  # Walk  \n",
    "print(check_walk_trail_path(graph3, seq3))  # Path  \n",
    "print(check_walk_trail_path(graph3, seq4))  # None  \n"
   ]
  },
  {
   "cell_type": "markdown",
   "metadata": {},
   "source": [
    "\n",
    "8. Check if a given graph is a tree."
   ]
  },
  {
   "cell_type": "code",
   "execution_count": 55,
   "metadata": {},
   "outputs": [
    {
     "name": "stdout",
     "output_type": "stream",
     "text": [
      "True\n",
      "False\n"
     ]
    }
   ],
   "source": [
    "#8\n",
    "\n",
    "def is_tree(graph):\n",
    "    nodes = list(graph.keys())  # Dictionary to keep track of each node's parent (for cycle detection)\n",
    "    parent = {nodes[0]: None} \n",
    "    queue = [nodes[0]] # Queue for BFS traversal\n",
    "    visited = [] # List to keep visited nodes\n",
    "\n",
    "    while queue:\n",
    "        node = queue.pop(0)\n",
    "        visited.append(node)\n",
    "        for neighbor in graph[node]:\n",
    "             # If the neighbor is visited and is not the parent, a cycle exists\n",
    "            if neighbor in visited and neighbor != parent[node]: \n",
    "                return False\n",
    "            # If neighbor is not visited, set its parent and add to queue\n",
    "            if neighbor not in parent:\n",
    "                parent[neighbor] = node\n",
    "                queue.append(neighbor)\n",
    "     # If all nodes are visited and no cycles, it's a tree\n",
    "    return len(visited) == len(graph)\n",
    "\n",
    "graph4 = {\"A\": [\"B\", \"C\"], \"B\": [\"A\", \"D\"], \"C\": [\"A\"], \"D\": [\"B\"]}  \n",
    "graph5 = {\"A\": [\"B\", \"C\"], \"B\": [\"A\", \"C\"], \"C\": [\"A\", \"B\"]}  \n",
    "\n",
    "print(is_tree(graph4))  # True  \n",
    "print(is_tree(graph5))  # False  \n"
   ]
  },
  {
   "cell_type": "markdown",
   "metadata": {},
   "source": [
    "9. Given a connected cyclic graph, find its spanning tree."
   ]
  },
  {
   "cell_type": "code",
   "execution_count": 1,
   "metadata": {},
   "outputs": [
    {
     "name": "stdout",
     "output_type": "stream",
     "text": [
      "Spanning Tree:\n",
      "A -> ['B']\n",
      "B -> ['D', 'E']\n",
      "E -> ['F']\n",
      "F -> ['C']\n"
     ]
    }
   ],
   "source": [
    "# Given connected cyclic graph\n",
    "graph = {\n",
    "    'A': ['B', 'C'],\n",
    "    'B': ['A', 'D', 'E'],\n",
    "    'C': ['A', 'F'],\n",
    "    'D': ['B'],\n",
    "    'E': ['B', 'F'],\n",
    "    'F': ['C', 'E']\n",
    "}\n",
    "\n",
    "# Function to find Spanning Tree using DFS\n",
    "def find_spanning_tree(graph, start):\n",
    "    visited = set()      # Set to keep track of visited nodes\n",
    "    spanning_tree = {}   # Dictionary to store the spanning tree edges\n",
    "\n",
    "    # Recursive DFS function\n",
    "    def dfs(node, parent):\n",
    "        visited.add(node)  # Mark the current node as visited\n",
    "\n",
    "        # If node has a parent, add the edge (parent -> node) to the tree\n",
    "        if parent is not None:\n",
    "            if parent not in spanning_tree:\n",
    "                spanning_tree[parent] = []       # Initialize the list if not already present\n",
    "            spanning_tree[parent].append(node)   # Add the child node to the parent\n",
    "\n",
    "        # Explore all neighbors of the current node\n",
    "        for neighbor in graph[node]:\n",
    "            if neighbor not in visited:\n",
    "                dfs(neighbor, node)  # Recurse with current node as parent\n",
    "\n",
    "    # Start DFS from the given starting node\n",
    "    dfs(start, None)\n",
    "\n",
    "    return spanning_tree\n",
    "\n",
    "\n",
    "# Function to print the spanning tree\n",
    "def print_spanning_tree(tree):\n",
    "    print(\"Spanning Tree:\")\n",
    "    for parent in tree:\n",
    "        print(parent, \"->\", tree[parent])\n",
    "\n",
    "\n",
    "# Driver Code\n",
    "spanning_tree = find_spanning_tree(graph, 'A')\n",
    "print_spanning_tree(spanning_tree)\n"
   ]
  },
  {
   "cell_type": "markdown",
   "metadata": {},
   "source": [
    "10. Given a tree, find the number of leaf nodes."
   ]
  },
  {
   "cell_type": "code",
   "execution_count": 2,
   "metadata": {},
   "outputs": [
    {
     "name": "stdout",
     "output_type": "stream",
     "text": [
      "Number of leaf nodes: 2\n"
     ]
    }
   ],
   "source": [
    "def count_leaf_nodes(tree, root):\n",
    "    leaf_count = 0\n",
    "    for node in tree:\n",
    "        if len(tree[node]) == 0:  # If the node has no children, it's a leaf\n",
    "            leaf_count += 1\n",
    "            # If the node has only one neighbor and is not the root, it's a leaf (for undirected trees)\n",
    "        elif len(tree[node]) == 1 and node != root:\n",
    "            leaf_count += 1\n",
    "    return leaf_count\n",
    "\n",
    "tree = {\n",
    "    1: [2, 3],\n",
    "    2: [1, 4],\n",
    "    3: [1],\n",
    "    4: [2]\n",
    "}\n",
    "\n",
    "# Function call\n",
    "root = 1\n",
    "print(\"Number of leaf nodes:\", count_leaf_nodes(tree, root))"
   ]
  },
  {
   "cell_type": "markdown",
   "metadata": {},
   "source": [
    "11. Given a tree, check if it's a binary tree."
   ]
  },
  {
   "cell_type": "code",
   "execution_count": 3,
   "metadata": {},
   "outputs": [
    {
     "name": "stdout",
     "output_type": "stream",
     "text": [
      "Is it a binary tree? True\n"
     ]
    }
   ],
   "source": [
    "def is_binary_tree(tree):\n",
    "    for node in tree:\n",
    "        # If any node has more than two children, it's not a binary tree\n",
    "        if len(tree[node]) > 2:\n",
    "            return False\n",
    "    return True  # If all nodes have at most two children, it's a binary tree\n",
    "\n",
    "tree = {\n",
    "    1: [2, 3],\n",
    "    2: [],\n",
    "    3: [4],\n",
    "    4: []\n",
    "}\n",
    "\n",
    "# Function call\n",
    "print(\"Is it a binary tree?\", is_binary_tree(tree))\n"
   ]
  },
  {
   "cell_type": "markdown",
   "metadata": {},
   "source": [
    "\n",
    "12. Given a tree and a node, find its height."
   ]
  },
  {
   "cell_type": "code",
   "execution_count": 4,
   "metadata": {},
   "outputs": [
    {
     "name": "stdout",
     "output_type": "stream",
     "text": [
      "Height of the tree: 3\n"
     ]
    }
   ],
   "source": [
    "def height_of_tree(tree, root):\n",
    "    # Helper function for depth-first search\n",
    "    def dfs(node):\n",
    "        if not tree.get(node):  # If node has no children, height is 0\n",
    "            return 0\n",
    "        # Height is 1 plus the maximum height among all children\n",
    "        return 1 + max(dfs(child) for child in tree[node])\n",
    "    \n",
    "    return dfs(root)\n",
    "\n",
    "tree = {\n",
    "    1: [2, 3],\n",
    "    2: [],\n",
    "    3: [4, 5],\n",
    "    4: [],\n",
    "    5: [6],\n",
    "    6: []\n",
    "}\n",
    "\n",
    "# Function call\n",
    "root = 1\n",
    "print(\"Height of the tree:\", height_of_tree(tree, root))\n"
   ]
  },
  {
   "cell_type": "markdown",
   "metadata": {},
   "source": [
    "13. Given a tree and a node, find its depth."
   ]
  },
  {
   "cell_type": "code",
   "execution_count": 5,
   "metadata": {},
   "outputs": [
    {
     "name": "stdout",
     "output_type": "stream",
     "text": [
      "Depth of node 6 : 3\n"
     ]
    }
   ],
   "source": [
    "def depth_of_node(tree, root, target):\n",
    "    # Helper function for recursive DFS, with current depth\n",
    "    def dfs(node, depth):\n",
    "        if node == target:  # If we reached the target node, return its depth\n",
    "            return depth\n",
    "        for child in tree.get(node, []):\n",
    "            d = dfs(child, depth + 1)\n",
    "            if d != -1:\n",
    "                return d\n",
    "        # If node not found in this path, return -1\n",
    "        return -1\n",
    "    return dfs(root, 0)  # Start DFS from the root at depth 0\n",
    "\n",
    "tree = {\n",
    "    1: [2, 3],\n",
    "    2: [],\n",
    "    3: [4, 5],\n",
    "    4: [],\n",
    "    5: [6],\n",
    "    6: []\n",
    "}\n",
    "\n",
    "root = 1\n",
    "target = 6\n",
    "\n",
    "# Function call\n",
    "print(\"Depth of node\", target, \":\", depth_of_node(tree, root, target))\n"
   ]
  },
  {
   "cell_type": "code",
   "execution_count": null,
   "metadata": {},
   "outputs": [],
   "source": []
  }
 ],
 "metadata": {
  "kernelspec": {
   "display_name": "Python 3",
   "language": "python",
   "name": "python3"
  },
  "language_info": {
   "codemirror_mode": {
    "name": "ipython",
    "version": 3
   },
   "file_extension": ".py",
   "mimetype": "text/x-python",
   "name": "python",
   "nbconvert_exporter": "python",
   "pygments_lexer": "ipython3",
   "version": "3.13.2"
  }
 },
 "nbformat": 4,
 "nbformat_minor": 2
}
